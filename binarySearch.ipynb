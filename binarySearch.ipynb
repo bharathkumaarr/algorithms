{
  "nbformat": 4,
  "nbformat_minor": 0,
  "metadata": {
    "colab": {
      "provenance": [],
      "authorship_tag": "ABX9TyPcIAYc8gf2WlJ8HHf+0K5i",
      "include_colab_link": true
    },
    "kernelspec": {
      "name": "python3",
      "display_name": "Python 3"
    },
    "language_info": {
      "name": "python"
    }
  },
  "cells": [
    {
      "cell_type": "markdown",
      "metadata": {
        "id": "view-in-github",
        "colab_type": "text"
      },
      "source": [
        "<a href=\"https://colab.research.google.com/github/bharathkumaarr/algorithms/blob/master/binarySearch.ipynb\" target=\"_parent\"><img src=\"https://colab.research.google.com/assets/colab-badge.svg\" alt=\"Open In Colab\"/></a>"
      ]
    },
    {
      "cell_type": "markdown",
      "source": [
        "# Binary Search\n",
        "two methods\n",
        "1. traditional method - search for in a sorted arr\n",
        "2. over-under technique (or) Condition based - good to solve LC\n"
      ],
      "metadata": {
        "id": "LBY6hi5t8Dem"
      }
    },
    {
      "cell_type": "code",
      "execution_count": 4,
      "metadata": {
        "colab": {
          "base_uri": "https://localhost:8080/"
        },
        "id": "ZJ_X-5h674Uh",
        "outputId": "7dfa91e4-8fc5-44ca-d821-a54e1c965ca3"
      },
      "outputs": [
        {
          "output_type": "execute_result",
          "data": {
            "text/plain": [
              "False"
            ]
          },
          "metadata": {},
          "execution_count": 4
        }
      ],
      "source": [
        "A=[-5,-3,-1, 1,3,6]\n",
        "def binarySearch(arr,target):\n",
        "  L =0\n",
        "  R=len(A)-1\n",
        "  while L<=R:\n",
        "    M=L+((R-L)//2)\n",
        "    if arr[M]==target:\n",
        "      return True\n",
        "    elif target<arr[M]:\n",
        "      R=M-1\n",
        "    else:\n",
        "      L=M+1\n",
        "    return False\n",
        "binarySearch(A,2)\n"
      ]
    },
    {
      "cell_type": "code",
      "source": [],
      "metadata": {
        "id": "BmSdJbDG9eHb"
      },
      "execution_count": null,
      "outputs": []
    }
  ]
}