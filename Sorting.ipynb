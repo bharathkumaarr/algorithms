{
  "nbformat": 4,
  "nbformat_minor": 0,
  "metadata": {
    "colab": {
      "provenance": [],
      "authorship_tag": "ABX9TyNrFGnUBdSz+kiucrt5YQcp",
      "include_colab_link": true
    },
    "kernelspec": {
      "name": "python3",
      "display_name": "Python 3"
    },
    "language_info": {
      "name": "python"
    }
  },
  "cells": [
    {
      "cell_type": "markdown",
      "metadata": {
        "id": "view-in-github",
        "colab_type": "text"
      },
      "source": [
        "<a href=\"https://colab.research.google.com/github/bharathkumaarr/algorithms/blob/master/Sorting.ipynb\" target=\"_parent\"><img src=\"https://colab.research.google.com/assets/colab-badge.svg\" alt=\"Open In Colab\"/></a>"
      ]
    },
    {
      "cell_type": "markdown",
      "source": [
        "# Bubble Sort\n",
        "- time complexity = O(n^2)\n",
        "- space omplexity = O(1)\n"
      ],
      "metadata": {
        "id": "xfs8x1eUuvt9"
      }
    },
    {
      "cell_type": "code",
      "execution_count": null,
      "metadata": {
        "colab": {
          "base_uri": "https://localhost:8080/"
        },
        "id": "hWwhQL8-umXM",
        "outputId": "d0e10fe1-b138-45f2-8aa3-87d6133d7af5"
      },
      "outputs": [
        {
          "output_type": "stream",
          "name": "stdout",
          "text": [
            "[-5, -2, 1, 1, 1, 2, 3, 5, 6, 7, 8]\n"
          ]
        }
      ],
      "source": [
        "A = [-5,3,5,2,1,8,6,7,1,-2,1]\n",
        "def bubble_sort(arr):\n",
        "  n = len(arr)\n",
        "  flag=True\n",
        "  while flag:\n",
        "    flag = False\n",
        "    for i in range(1,n):\n",
        "      if arr[i-1] > arr[i]:\n",
        "        flag = True\n",
        "        arr[i-1], arr[i] = arr[i], arr[i-1]\n",
        "bubble_sort(A)\n",
        "print(A)"
      ]
    },
    {
      "cell_type": "markdown",
      "source": [
        "# Insertion Sort\n",
        "- time complexity = O(n^2)\n",
        "- Space complexity = O(1)\n"
      ],
      "metadata": {
        "id": "lJvIzBQMyFAV"
      }
    },
    {
      "cell_type": "markdown",
      "source": [],
      "metadata": {
        "id": "4YQbngEPuvOk"
      }
    },
    {
      "cell_type": "code",
      "source": [
        "B = [-5,3,5,2,1,8,6,7,1,-2,1]\n",
        "def insertion_sort(arr):\n",
        "  n = len(arr)\n",
        "  for i in range(1,n):\n",
        "    for j in range(i,0,-1):\n",
        "      if arr[j-1]>arr[j]:\n",
        "        arr[j-1], arr[j] = arr[j], arr[j-1]\n",
        "      else:\n",
        "        break\n",
        "insertion_sort(B)\n",
        "B"
      ],
      "metadata": {
        "colab": {
          "base_uri": "https://localhost:8080/"
        },
        "id": "9tpT1uwQybR5",
        "outputId": "d8b92bed-e5b6-4fbf-9756-a2f4c3f827c0"
      },
      "execution_count": null,
      "outputs": [
        {
          "output_type": "execute_result",
          "data": {
            "text/plain": [
              "[-5, -2, 1, 1, 1, 2, 3, 5, 6, 7, 8]"
            ]
          },
          "metadata": {},
          "execution_count": 10
        }
      ]
    },
    {
      "cell_type": "code",
      "source": [],
      "metadata": {
        "id": "ocDsYczXzPLn"
      },
      "execution_count": null,
      "outputs": []
    }
  ]
}